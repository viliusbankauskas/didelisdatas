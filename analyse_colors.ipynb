{
 "cells": [
  {
   "cell_type": "code",
   "execution_count": 1,
   "id": "5131e1c6",
   "metadata": {},
   "outputs": [
    {
     "name": "stdout",
     "output_type": "stream",
     "text": [
      "Requirement already satisfied: pillow in /Users/gintas/miniforge3/lib/python3.9/site-packages (9.1.0)\n",
      "Requirement already satisfied: numpy in /Users/gintas/miniforge3/lib/python3.9/site-packages (1.22.3)\n",
      "Requirement already satisfied: pandas in /Users/gintas/miniforge3/lib/python3.9/site-packages (1.4.2)\n",
      "Requirement already satisfied: sklearn in /Users/gintas/miniforge3/lib/python3.9/site-packages (0.0)\n",
      "Requirement already satisfied: matplotlib in /Users/gintas/miniforge3/lib/python3.9/site-packages (3.5.2)\n",
      "Requirement already satisfied: python-dateutil>=2.8.1 in /Users/gintas/miniforge3/lib/python3.9/site-packages (from pandas) (2.8.2)\n",
      "Requirement already satisfied: pytz>=2020.1 in /Users/gintas/miniforge3/lib/python3.9/site-packages (from pandas) (2022.1)\n",
      "Requirement already satisfied: scikit-learn in /Users/gintas/miniforge3/lib/python3.9/site-packages (from sklearn) (1.0.2)\n",
      "Requirement already satisfied: pyparsing>=2.2.1 in /Users/gintas/miniforge3/lib/python3.9/site-packages (from matplotlib) (3.0.4)\n",
      "Requirement already satisfied: packaging>=20.0 in /Users/gintas/miniforge3/lib/python3.9/site-packages (from matplotlib) (21.3)\n",
      "Requirement already satisfied: cycler>=0.10 in /Users/gintas/miniforge3/lib/python3.9/site-packages (from matplotlib) (0.11.0)\n",
      "Requirement already satisfied: kiwisolver>=1.0.1 in /Users/gintas/miniforge3/lib/python3.9/site-packages (from matplotlib) (1.4.2)\n",
      "Requirement already satisfied: fonttools>=4.22.0 in /Users/gintas/miniforge3/lib/python3.9/site-packages (from matplotlib) (4.33.3)\n",
      "Requirement already satisfied: six>=1.5 in /Users/gintas/miniforge3/lib/python3.9/site-packages (from python-dateutil>=2.8.1->pandas) (1.16.0)\n",
      "Requirement already satisfied: scipy>=1.1.0 in /Users/gintas/miniforge3/lib/python3.9/site-packages (from scikit-learn->sklearn) (1.8.0)\n",
      "Requirement already satisfied: threadpoolctl>=2.0.0 in /Users/gintas/miniforge3/lib/python3.9/site-packages (from scikit-learn->sklearn) (3.1.0)\n",
      "Requirement already satisfied: joblib>=0.11 in /Users/gintas/miniforge3/lib/python3.9/site-packages (from scikit-learn->sklearn) (1.1.0)\n",
      "Resizing is done\n",
      "npy array saving is done\n",
      "Netherlands Amsterdam\n"
     ]
    },
    {
     "data": {
      "image/png": "[encoded data removed]",
      "text/plain": [
       "<Figure size 432x288 with 1 Axes>"
      ]
     },
     "metadata": {
      "needs_background": "light"
     },
     "output_type": "display_data"
    },
    {
     "name": "stdout",
     "output_type": "stream",
     "text": [
      "Hong Kong\n"
     ]
    },
    {
     "data": {
      "image/png": "[encoded data removed]",
      "text/plain": [
       "<Figure size 432x288 with 1 Axes>"
      ]
     },
     "metadata": {
      "needs_background": "light"
     },
     "output_type": "display_data"
    },
    {
     "name": "stdout",
     "output_type": "stream",
     "text": [
      "US Phoenix\n"
     ]
    },
    {
     "data": {
      "image/png": "[encoded data removed]",
      "text/plain": [
       "<Figure size 432x288 with 1 Axes>"
      ]
     },
     "metadata": {
      "needs_background": "light"
     },
     "output_type": "display_data"
    },
    {
     "name": "stdout",
     "output_type": "stream",
     "text": [
      "US New York\n"
     ]
    },
    {
     "data": {
      "image/png": "[encoded data removed]",
      "text/plain": [
       "<Figure size 432x288 with 1 Axes>"
      ]
     },
     "metadata": {
      "needs_background": "light"
     },
     "output_type": "display_data"
    },
    {
     "name": "stdout",
     "output_type": "stream",
     "text": [
      "Lithuania Vilnius\n"
     ]
    },
    {
     "data": {
      "image/png": "[encoded data removed]",
      "text/plain": [
       "<Figure size 432x288 with 1 Axes>"
      ]
     },
     "metadata": {
      "needs_background": "light"
     },
     "output_type": "display_data"
    },
    {
     "name": "stdout",
     "output_type": "stream",
     "text": [
      "US Chicago\n"
     ]
    },
    {
     "data": {
      "image/png": "[encoded data removed]",
      "text/plain": [
       "<Figure size 432x288 with 1 Axes>"
      ]
     },
     "metadata": {
      "needs_background": "light"
     },
     "output_type": "display_data"
    },
    {
     "name": "stdout",
     "output_type": "stream",
     "text": [
      "Czechia Republic Prague\n"
     ]
    },
    {
     "data": {
      "image/png": "[encoded data removed]",
      "text/plain": [
       "<Figure size 432x288 with 1 Axes>"
      ]
     },
     "metadata": {
      "needs_background": "light"
     },
     "output_type": "display_data"
    },
    {
     "name": "stdout",
     "output_type": "stream",
     "text": [
      "US Philadelphia\n"
     ]
    },
    {
     "data": {
      "image/png": "[encoded data removed]",
      "text/plain": [
       "<Figure size 432x288 with 1 Axes>"
      ]
     },
     "metadata": {
      "needs_background": "light"
     },
     "output_type": "display_data"
    },
    {
     "name": "stdout",
     "output_type": "stream",
     "text": [
      "US San Jose\n"
     ]
    },
    {
     "data": {
      "image/png": "[encoded data removed]",
      "text/plain": [
       "<Figure size 432x288 with 1 Axes>"
      ]
     },
     "metadata": {
      "needs_background": "light"
     },
     "output_type": "display_data"
    },
    {
     "name": "stdout",
     "output_type": "stream",
     "text": [
      "Singapore\n"
     ]
    },
    {
     "data": {
      "image/png": "[encoded data removed]",
      "text/plain": [
       "<Figure size 432x288 with 1 Axes>"
      ]
     },
     "metadata": {
      "needs_background": "light"
     },
     "output_type": "display_data"
    },
    {
     "name": "stdout",
     "output_type": "stream",
     "text": [
      "Monaco Monaco\n"
     ]
    },
    {
     "data": {
      "image/png": "[encoded data removed]",
      "text/plain": [
       "<Figure size 432x288 with 1 Axes>"
      ]
     },
     "metadata": {
      "needs_background": "light"
     },
     "output_type": "display_data"
    },
    {
     "name": "stdout",
     "output_type": "stream",
     "text": [
      "US San Francisco\n"
     ]
    },
    {
     "data": {
      "image/png": "[encoded data removed]",
      "text/plain": [
       "<Figure size 432x288 with 1 Axes>"
      ]
     },
     "metadata": {
      "needs_background": "light"
     },
     "output_type": "display_data"
    },
    {
     "name": "stdout",
     "output_type": "stream",
     "text": [
      "Luxembourg Luxembourg\n"
     ]
    },
    {
     "data": {
      "image/png": "[encoded data removed]",
      "text/plain": [
       "<Figure size 432x288 with 1 Axes>"
      ]
     },
     "metadata": {
      "needs_background": "light"
     },
     "output_type": "display_data"
    },
    {
     "name": "stdout",
     "output_type": "stream",
     "text": [
      "Turkey Istanbul\n"
     ]
    },
    {
     "data": {
      "image/png": "[encoded data removed]",
      "text/plain": [
       "<Figure size 432x288 with 1 Axes>"
      ]
     },
     "metadata": {
      "needs_background": "light"
     },
     "output_type": "display_data"
    },
    {
     "name": "stdout",
     "output_type": "stream",
     "text": [
      "Thailand Bangkok\n"
     ]
    },
    {
     "data": {
      "image/png": "[encoded data removed]",
      "text/plain": [
       "<Figure size 432x288 with 1 Axes>"
      ]
     },
     "metadata": {
      "needs_background": "light"
     },
     "output_type": "display_data"
    },
    {
     "name": "stdout",
     "output_type": "stream",
     "text": [
      "UAE Dubai\n"
     ]
    },
    {
     "data": {
      "image/png": "[encoded data removed]",
      "text/plain": [
       "<Figure size 432x288 with 1 Axes>"
      ]
     },
     "metadata": {
      "needs_background": "light"
     },
     "output_type": "display_data"
    },
    {
     "name": "stdout",
     "output_type": "stream",
     "text": [
      "US San Diego\n"
     ]
    },
    {
     "data": {
      "image/png": "[encoded data removed]",
      "text/plain": [
       "<Figure size 432x288 with 1 Axes>"
      ]
     },
     "metadata": {
      "needs_background": "light"
     },
     "output_type": "display_data"
    },
    {
     "name": "stdout",
     "output_type": "stream",
     "text": [
      "US San Antonio\n"
     ]
    },
    {
     "data": {
      "image/png": "[encoded data removed]",
      "text/plain": [
       "<Figure size 432x288 with 1 Axes>"
      ]
     },
     "metadata": {
      "needs_background": "light"
     },
     "output_type": "display_data"
    },
    {
     "name": "stdout",
     "output_type": "stream",
     "text": [
      "US Dallas\n"
     ]
    },
    {
     "data": {
      "image/png": "[encoded data removed]",
      "text/plain": [
       "<Figure size 432x288 with 1 Axes>"
      ]
     },
     "metadata": {
      "needs_background": "light"
     },
     "output_type": "display_data"
    },
    {
     "name": "stdout",
     "output_type": "stream",
     "text": [
      "US Houston\n"
     ]
    },
    {
     "data": {
      "image/png": "[encoded data removed]",
      "text/plain": [
       "<Figure size 432x288 with 1 Axes>"
      ]
     },
     "metadata": {
      "needs_background": "light"
     },
     "output_type": "display_data"
    },
    {
     "name": "stdout",
     "output_type": "stream",
     "text": [
      "Czechia Prague\n"
     ]
    },
    {
     "data": {
      "image/png": "[encoded data removed]",
      "text/plain": [
       "<Figure size 432x288 with 1 Axes>"
      ]
     },
     "metadata": {
      "needs_background": "light"
     },
     "output_type": "display_data"
    },
    {
     "name": "stdout",
     "output_type": "stream",
     "text": [
      "Italy Rome\n"
     ]
    },
    {
     "data": {
      "image/png": "[encoded data removed]",
      "text/plain": [
       "<Figure size 432x288 with 1 Axes>"
      ]
     },
     "metadata": {
      "needs_background": "light"
     },
     "output_type": "display_data"
    },
    {
     "name": "stdout",
     "output_type": "stream",
     "text": [
      "Italy Milan\n"
     ]
    },
    {
     "data": {
      "image/png": "[encoded data removed]",
      "text/plain": [
       "<Figure size 432x288 with 1 Axes>"
      ]
     },
     "metadata": {
      "needs_background": "light"
     },
     "output_type": "display_data"
    },
    {
     "name": "stdout",
     "output_type": "stream",
     "text": [
      "US Stockton\n"
     ]
    },
    {
     "data": {
      "image/png": "[encoded data removed]",
      "text/plain": [
       "<Figure size 432x288 with 1 Axes>"
      ]
     },
     "metadata": {
      "needs_background": "light"
     },
     "output_type": "display_data"
    },
    {
     "name": "stdout",
     "output_type": "stream",
     "text": [
      "South Korea Seoul\n"
     ]
    },
    {
     "data": {
      "image/png": "[encoded data removed]",
      "text/plain": [
       "<Figure size 432x288 with 1 Axes>"
      ]
     },
     "metadata": {
      "needs_background": "light"
     },
     "output_type": "display_data"
    }
   ],
   "source": [
    "!pip install pillow numpy pandas sklearn matplotlib\n",
    "%matplotlib inline\n",
    "import random\n",
    "import sys\n",
    "\n",
    "from PIL import Image, ExifTags\n",
    "from PIL import ImageOps\n",
    "import os\n",
    "import numpy as np\n",
    "from PIL import Image\n",
    "from PIL import ImageOps\n",
    "import os\n",
    "import pandas as pd\n",
    "import numpy as np\n",
    "import json\n",
    "\n",
    "\n",
    "image_files = os.listdir(\"./images\")\n",
    "for file in image_files:\n",
    "    if file.startswith(\".\"):\n",
    "        continue\n",
    "    if os.path.exists(f\"./images_resized/{file}\"):\n",
    "        continue\n",
    "    filename = f\"./images/{file}\"\n",
    "    try:\n",
    "        image = Image.open(filename)\n",
    "        if image._getexif() is not None:\n",
    "            exif = dict(image._getexif().items())\n",
    "\n",
    "            for orientation in ExifTags.TAGS.keys():\n",
    "                if ExifTags.TAGS[orientation] == 'Orientation': break\n",
    "            if orientation in exif:\n",
    "                if exif[orientation] == 3:\n",
    "                    image = image.rotate(180, expand=True)\n",
    "                elif exif[orientation] == 6:\n",
    "                    image = image.rotate(270, expand=True)\n",
    "                elif exif[orientation] == 8:\n",
    "                    image = image.rotate(90, expand=True)\n",
    "        # image2 = ImageOps.contain(image, (512, 512))\n",
    "        image2 = image.resize((128, 128))\n",
    "        image2.save(f\"./images_resized/{file}\")\n",
    "        image.close()\n",
    "        image2.close()\n",
    "    except:\n",
    "        None\n",
    "#    print(f\"{file} done\")\n",
    "\n",
    "print(\"Resizing is done\")\n",
    "\n",
    "image_files = os.listdir(\"./images_resized\")\n",
    "for file in image_files:\n",
    "    if file.startswith(\".\"):\n",
    "        continue\n",
    "    if os.path.exists(f\"./images_resized_npy/{file}.npy\"):\n",
    "        continue\n",
    "    filename = f\"./images_resized/{file}\"\n",
    "    image = Image.open(filename)\n",
    "\n",
    "    image_sequence = image.getdata()\n",
    "    image_array = np.array(image_sequence)\n",
    "    image.close()\n",
    "    np.save(f\"./images_resized_npy/{file}\", image_array)\n",
    "    # print(f\"{file} done\")\n",
    "\n",
    "print(\"npy array saving is done\")\n",
    "\n",
    "csv_data = pd.read_csv(\"ktu_didziuju_ld2_final.csv\", sep = ';', dtype = {'instance_of': str, 'pageview_count': float, 'registered_contributors_count': float, 'anonymous_contributors_count': float, 'num_wikipedia_lang_pages': float, 'is_shop': int, 'is_tourism': int, 'is_leisure': int, 'is_other': int, 'has_image': int, 'description': str, 'image_files': str})\n",
    "csv_data = csv_data[['city_name', 'image_files']]\n",
    "for city_name in csv_data['city_name'].unique():\n",
    "#     city_name = csv_data['city_name'].unique()[0]\n",
    "\n",
    "    mask = csv_data['city_name'] == city_name\n",
    "    image_files = ','.join(csv_data[mask]['image_files'].dropna()).split(',')\n",
    "    image_files = list(map(lambda e: './images_resized_npy/' + e + \".npy\", image_files))\n",
    "    images_data = []\n",
    "    for image_file in image_files:\n",
    "        try:\n",
    "            img_array = np.load(image_file)\n",
    "            images_data.extend(img_array)\n",
    "        except:\n",
    "            None\n",
    "    images_data = list(map(lambda e: e.tolist(), images_data))\n",
    "    images_data = list(filter(lambda e: type(e) == list and len(e) == 3, images_data))\n",
    "    images_data = np.asarray(images_data)\n",
    "\n",
    "\n",
    "    # do k means\n",
    "\n",
    "    data_normal = images_data\n",
    "    num_rows, num_columns = data_normal.shape\n",
    "#     print(f\"{num_rows} {num_columns}\")\n",
    "\n",
    "    from sklearn.cluster import KMeans\n",
    "    import matplotlib.pyplot as plt\n",
    "    kmeans = KMeans(n_clusters=8)\n",
    "    kmeans.fit(data_normal)\n",
    "\n",
    "    print(city_name)\n",
    "    cc = []\n",
    "    for color_rgb in kmeans.cluster_centers_:\n",
    "        color = (color_rgb[0] / 255, color_rgb[1] / 255, color_rgb[2] / 255)\n",
    "        cc.append(color)\n",
    "\n",
    "    plt.figure()\n",
    "    plt.imshow([cc])\n",
    "    plt.show()\n"
   ]
  },
  {
   "cell_type": "code",
   "execution_count": null,
   "id": "e364aab4",
   "metadata": {},
   "outputs": [],
   "source": []
  }
 ],
 "metadata": {
  "kernelspec": {
   "display_name": "Python 3 (ipykernel)",
   "language": "python",
   "name": "python3"
  },
  "language_info": {
   "codemirror_mode": {
    "name": "ipython",
    "version": 3
   },
   "file_extension": ".py",
   "mimetype": "text/x-python",
   "name": "python",
   "nbconvert_exporter": "python",
   "pygments_lexer": "ipython3",
   "version": "3.9.10"
  }
 },
 "nbformat": 4,
 "nbformat_minor": 5
}
